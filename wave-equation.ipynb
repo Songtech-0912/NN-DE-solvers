{
 "cells": [
  {
   "cell_type": "markdown",
   "id": "426a4b4a",
   "metadata": {},
   "source": [
    "# Solving the wave equation with a PINN"
   ]
  },
  {
   "cell_type": "markdown",
   "id": "7992fefc",
   "metadata": {},
   "source": [
    "We aim to solve the simple 1D wave equation:"
   ]
  },
  {
   "cell_type": "markdown",
   "id": "3b3fd420",
   "metadata": {},
   "source": [
    "$$\n",
    "\\frac{\\partial^2 u}{\\partial t^2} = c^2 \\frac{\\partial^2 u}{\\partial x^2}\n",
    "$$"
   ]
  },
  {
   "cell_type": "markdown",
   "id": "4978d408",
   "metadata": {},
   "source": [
    "This equation can be solved analytically using separation of variables, but we aim to solve it numerically with a PINN, and check that our solution is a sinusoidal wave. To do this, we need the initial conditions:"
   ]
  },
  {
   "cell_type": "markdown",
   "id": "8e33d1ac",
   "metadata": {},
   "source": [
    "$$\n",
    "u(0, t) = u(1, t) = u(x, 0) = u(x, 1) = 1\n",
    "$$"
   ]
  },
  {
   "cell_type": "markdown",
   "id": "d06d07cc",
   "metadata": {},
   "source": [
    "## Theory"
   ]
  },
  {
   "cell_type": "markdown",
   "id": "ee7feaca",
   "metadata": {},
   "source": [
    "The wave equation can be written in the form $F(x, t) = 0$, where:"
   ]
  },
  {
   "cell_type": "markdown",
   "id": "36408b34",
   "metadata": {},
   "source": [
    "$$\n",
    "F(x, t) = \\frac{\\partial^2 u}{\\partial t^2} - c^2 \\frac{\\partial^2 u}{\\partial x^2}\n",
    "$$"
   ]
  },
  {
   "cell_type": "markdown",
   "id": "d74562dc",
   "metadata": {},
   "source": [
    "We want the neural network to learn the solution $u(x, t)$, so we make a general model `model(param, x, t)` that should converge to $u(x, t)$ after training. Thus, given our wave equation, we can define a custom loss function $L(a, x, t)$, where $a$ denotes the matrix of weights and biases:"
   ]
  },
  {
   "cell_type": "markdown",
   "id": "c5794ee1",
   "metadata": {},
   "source": [
    "$$\n",
    "L(a, x, t) = \\frac{1}{n} \\sum_{i=0}^n \\left( \\| F(x, t) \\|^2 - \\| u(x, t) - z \\|^2 \\right)\n",
    "$$"
   ]
  },
  {
   "cell_type": "markdown",
   "id": "d9b93897",
   "metadata": {},
   "source": [
    "Where $z$ denotes the initial conditions we give to the model. Thus, through the same method of gradient descent, the neural network learns the function $u(x, t)$:"
   ]
  },
  {
   "cell_type": "markdown",
   "id": "6175a5f3",
   "metadata": {},
   "source": [
    "$$\n",
    "a_{n + 1} = a_n - \\gamma \\nabla L(a, x, t)\n",
    "$$"
   ]
  },
  {
   "cell_type": "code",
   "execution_count": 105,
   "id": "04422e60",
   "metadata": {},
   "outputs": [],
   "source": [
    "import jax\n",
    "import jax.numpy as jnp\n",
    "from jax import jit, grad, vmap\n",
    "import matplotlib.pyplot as plt"
   ]
  },
  {
   "cell_type": "code",
   "execution_count": 168,
   "id": "db65713e",
   "metadata": {},
   "outputs": [],
   "source": [
    "def sigmoid(x):\n",
    "    return 1.0 / (1.0 + jnp.exp(-x))"
   ]
  },
  {
   "cell_type": "code",
   "execution_count": 180,
   "id": "dacdd223",
   "metadata": {},
   "outputs": [],
   "source": [
    "# Model with basic sigmoid activation to represent u(x, t)\n",
    "def model(params, x, t, activation=sigmoid):\n",
    "    wx = params[:100] # x weights\n",
    "    wt = params[100:200] # t weights\n",
    "    b0 = params[200:300]\n",
    "    w1 = params[300:400]\n",
    "    b1 = params[400]\n",
    "    h = activation(x*wx + t*wt + b0) # we first create a typical neuron\n",
    "    o = jnp.sum(h*w1) + b1 # then we sum the neuron output as u(x, t) is a scalar-valued function\n",
    "    return o"
   ]
  },
  {
   "cell_type": "code",
   "execution_count": 181,
   "id": "80b7f12d",
   "metadata": {},
   "outputs": [],
   "source": [
    "df_2dx_2 = grad(grad(model, 2), 2) # ∂^2f / ∂x^2\n",
    "df_2dt_2 = grad(grad(model, 1), 1) # ∂^2f / ∂t^2"
   ]
  },
  {
   "cell_type": "code",
   "execution_count": 192,
   "id": "464d5482",
   "metadata": {},
   "outputs": [],
   "source": [
    "model_vect = vmap(model, (None, 0, 0))\n",
    "df_2dx_2_vect = vmap(df_2dx_2, (None, 0, 0))\n",
    "df_2dt_2_vect = vmap(df_2dt_2, (None, 0, 0))"
   ]
  },
  {
   "cell_type": "code",
   "execution_count": 193,
   "id": "8b038308",
   "metadata": {},
   "outputs": [],
   "source": [
    "# The PDE (what we refer to as F(x, t))\n",
    "def pde(params, x, t, c=1):\n",
    "    # ∂^2f / ∂t^2 - c^2 (∂^2f / ∂x^2)\n",
    "    return df_2dx_2_vect(params, x, t) - \\\n",
    "        c ** 2 * df_2dt_2_vect(params, x, t)"
   ]
  },
  {
   "cell_type": "code",
   "execution_count": 202,
   "id": "551e29c6",
   "metadata": {},
   "outputs": [],
   "source": [
    "def loss(params, x, t, bc=1):\n",
    "    return jnp.mean(pde(params, x, t, bc) ** 2 + (model(params, 0, 0) - bc) ** 2)"
   ]
  },
  {
   "cell_type": "code",
   "execution_count": 203,
   "id": "753fe3ae",
   "metadata": {},
   "outputs": [],
   "source": [
    "loss_grad = grad(loss, 0)"
   ]
  },
  {
   "cell_type": "code",
   "execution_count": 204,
   "id": "063864c0",
   "metadata": {},
   "outputs": [],
   "source": [
    "key = jax.random.PRNGKey(0)"
   ]
  },
  {
   "cell_type": "code",
   "execution_count": 205,
   "id": "48bbb915",
   "metadata": {},
   "outputs": [],
   "source": [
    "epochs = 5000\n",
    "lr = 0.0005"
   ]
  },
  {
   "cell_type": "code",
   "execution_count": 206,
   "id": "02d9d5f6",
   "metadata": {},
   "outputs": [],
   "source": [
    "params = jax.random.normal(key, shape=(401,))"
   ]
  },
  {
   "cell_type": "code",
   "execution_count": 207,
   "id": "5808e5ad",
   "metadata": {},
   "outputs": [],
   "source": [
    "samples = 120"
   ]
  },
  {
   "cell_type": "code",
   "execution_count": 208,
   "id": "3713c2bc",
   "metadata": {},
   "outputs": [],
   "source": [
    "x = jnp.linspace(0, 4 * jnp.pi, samples)\n",
    "t = jnp.linspace(0, 1, samples)"
   ]
  },
  {
   "cell_type": "code",
   "execution_count": 209,
   "id": "9cfc491b",
   "metadata": {},
   "outputs": [
    {
     "name": "stdout",
     "output_type": "stream",
     "text": [
      "Epoch: 0 loss: 3.8312644958496094\n",
      "Epoch: 100 loss: 0.2205786257982254\n",
      "Epoch: 200 loss: 0.13671687245368958\n",
      "Epoch: 300 loss: 0.09569057077169418\n",
      "Epoch: 400 loss: 0.06984631717205048\n",
      "Epoch: 500 loss: 0.05255179852247238\n",
      "Epoch: 600 loss: 0.040670353919267654\n",
      "Epoch: 700 loss: 0.03238330036401749\n",
      "Epoch: 800 loss: 0.026540342718362808\n",
      "Epoch: 900 loss: 0.022380810230970383\n",
      "Epoch: 1000 loss: 0.019388848915696144\n",
      "Epoch: 1100 loss: 0.017209568992257118\n",
      "Epoch: 1200 loss: 0.01559792086482048\n",
      "Epoch: 1300 loss: 0.014384252019226551\n",
      "Epoch: 1400 loss: 0.01345145795494318\n",
      "Epoch: 1500 loss: 0.012718705460429192\n",
      "Epoch: 1600 loss: 0.012130025774240494\n",
      "Epoch: 1700 loss: 0.011646967381238937\n",
      "Epoch: 1800 loss: 0.011242669075727463\n",
      "Epoch: 1900 loss: 0.010898327454924583\n",
      "Epoch: 2000 loss: 0.01060058269649744\n",
      "Epoch: 2100 loss: 0.010339619591832161\n",
      "Epoch: 2200 loss: 0.010108483955264091\n",
      "Epoch: 2300 loss: 0.009901825338602066\n",
      "Epoch: 2400 loss: 0.009715796448290348\n",
      "Epoch: 2500 loss: 0.009546903893351555\n",
      "Epoch: 2600 loss: 0.009392603300511837\n",
      "Epoch: 2700 loss: 0.009251056239008904\n",
      "Epoch: 2800 loss: 0.009120332077145576\n",
      "Epoch: 2900 loss: 0.008999194949865341\n",
      "Epoch: 3000 loss: 0.00888632982969284\n",
      "Epoch: 3100 loss: 0.00878068432211876\n",
      "Epoch: 3200 loss: 0.00868147797882557\n",
      "Epoch: 3300 loss: 0.008587896823883057\n",
      "Epoch: 3400 loss: 0.00849926471710205\n",
      "Epoch: 3500 loss: 0.008415259420871735\n",
      "Epoch: 3600 loss: 0.008335145190358162\n",
      "Epoch: 3700 loss: 0.00825850572437048\n",
      "Epoch: 3800 loss: 0.008185181766748428\n",
      "Epoch: 3900 loss: 0.008114568889141083\n",
      "Epoch: 4000 loss: 0.008046513423323631\n",
      "Epoch: 4100 loss: 0.00798081699758768\n",
      "Epoch: 4200 loss: 0.007917354814708233\n",
      "Epoch: 4300 loss: 0.007855747826397419\n",
      "Epoch: 4400 loss: 0.0077957939356565475\n",
      "Epoch: 4500 loss: 0.007737578358501196\n",
      "Epoch: 4600 loss: 0.007680973038077354\n",
      "Epoch: 4700 loss: 0.00762566365301609\n",
      "Epoch: 4800 loss: 0.007571657188236713\n",
      "Epoch: 4900 loss: 0.007518763653934002\n"
     ]
    }
   ],
   "source": [
    "for epoch in range(epochs):\n",
    "    if epoch % 100  == 0:\n",
    "        print(f\"Epoch: {epoch} loss: {loss(params, x, t)}\")\n",
    "    gradient = loss_grad(params, x, t)\n",
    "    params -= lr * gradient"
   ]
  },
  {
   "cell_type": "code",
   "execution_count": 210,
   "id": "684926f8",
   "metadata": {},
   "outputs": [],
   "source": [
    "t0 = jnp.zeros(samples)"
   ]
  },
  {
   "cell_type": "code",
   "execution_count": 212,
   "id": "6b7686aa",
   "metadata": {},
   "outputs": [
    {
     "data": {
      "image/png": "[encoded data removed]",
      "text/plain": [
       "<Figure size 640x480 with 1 Axes>"
      ]
     },
     "metadata": {},
     "output_type": "display_data"
    }
   ],
   "source": [
    "# Plotting the solution at t=0\n",
    "plt.plot(x, model_vect(params, x, t0))\n",
    "plt.title(\"Solution to the wave equation at t=0\")\n",
    "plt.xlabel(\"x\")\n",
    "plt.ylabel(\"u(x, t)\")\n",
    "plt.show()"
   ]
  },
  {
   "cell_type": "code",
   "execution_count": 213,
   "id": "2ff6e549",
   "metadata": {},
   "outputs": [],
   "source": [
    "t1 = jnp.ones(samples)"
   ]
  },
  {
   "cell_type": "code",
   "execution_count": 214,
   "id": "a79527de",
   "metadata": {},
   "outputs": [
    {
     "data": {
      "image/png": "[encoded data removed]",
      "text/plain": [
       "<Figure size 640x480 with 1 Axes>"
      ]
     },
     "metadata": {},
     "output_type": "display_data"
    }
   ],
   "source": [
    "# Plotting the solution at t=1\n",
    "plt.plot(x, model_vect(params, x, t1))\n",
    "plt.title(\"Solution to the wave equation at t=1\")\n",
    "plt.xlabel(\"x\")\n",
    "plt.ylabel(\"u(x, t)\")\n",
    "plt.show()"
   ]
  }
 ],
 "metadata": {
  "kernelspec": {
   "display_name": "Python 3 (ipykernel)",
   "language": "python",
   "name": "python3"
  },
  "language_info": {
   "codemirror_mode": {
    "name": "ipython",
    "version": 3
   },
   "file_extension": ".py",
   "mimetype": "text/x-python",
   "name": "python",
   "nbconvert_exporter": "python",
   "pygments_lexer": "ipython3",
   "version": "3.11.4"
  }
 },
 "nbformat": 4,
 "nbformat_minor": 5
}
